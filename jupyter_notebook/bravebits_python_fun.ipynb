{
  "metadata": {
    "colab": {
      "provenance": []
    },
    "kernelspec": {
      "name": "python",
      "display_name": "Python (Pyodide)",
      "language": "python"
    },
    "language_info": {
      "codemirror_mode": {
        "name": "python",
        "version": 3
      },
      "file_extension": ".py",
      "mimetype": "text/x-python",
      "name": "python",
      "nbconvert_exporter": "python",
      "pygments_lexer": "ipython3",
      "version": "3.8"
    }
  },
  "nbformat_minor": 4,
  "nbformat": 4,
  "cells": [
    {
      "cell_type": "markdown",
      "source": "# **bravebits - Jupyter Notebook Example**",
      "metadata": {
        "id": "GrqsYTvAZlaO"
      }
    },
    {
      "cell_type": "code",
      "source": "1 + 1",
      "metadata": {
        "id": "k6Zib0kBJ8Kv",
        "trusted": true
      },
      "execution_count": null,
      "outputs": []
    },
    {
      "cell_type": "code",
      "source": "1 + 1 == 2",
      "metadata": {
        "id": "A2SJdRK3LaX6",
        "trusted": true
      },
      "execution_count": null,
      "outputs": []
    },
    {
      "cell_type": "code",
      "source": "1 + 1 != 2",
      "metadata": {
        "id": "4uMtno_3X1fx",
        "trusted": true
      },
      "execution_count": null,
      "outputs": []
    },
    {
      "cell_type": "code",
      "source": "print('hey yo garrison!')",
      "metadata": {
        "id": "RKOoBNxpJ-pn",
        "trusted": true
      },
      "execution_count": null,
      "outputs": []
    },
    {
      "cell_type": "code",
      "source": "chr(65)",
      "metadata": {
        "id": "PaElvsJhJv64",
        "trusted": true
      },
      "execution_count": null,
      "outputs": []
    },
    {
      "cell_type": "code",
      "source": "65 + 25",
      "metadata": {
        "id": "7PGLWkgeJ7Ug",
        "trusted": true
      },
      "execution_count": null,
      "outputs": []
    },
    {
      "cell_type": "code",
      "source": "chr(90)",
      "metadata": {
        "id": "dyOWoD9-LeoE",
        "trusted": true
      },
      "execution_count": null,
      "outputs": []
    },
    {
      "cell_type": "code",
      "source": "chr(65) == 'A' and chr(90) == 'Z'",
      "metadata": {
        "id": "ScQcNtoxLgsb",
        "trusted": true
      },
      "execution_count": null,
      "outputs": []
    },
    {
      "cell_type": "code",
      "source": "for i in range(65, 91):\n  print(chr(i))",
      "metadata": {
        "id": "m9FguuTPLoTU",
        "trusted": true
      },
      "execution_count": null,
      "outputs": []
    },
    {
      "cell_type": "code",
      "source": "for i in range(48,58):\n  print(chr(i))",
      "metadata": {
        "id": "d-41iWZxwbhF",
        "trusted": true
      },
      "execution_count": null,
      "outputs": []
    },
    {
      "cell_type": "code",
      "source": "chr(97)",
      "metadata": {
        "id": "AFfN0PhNRp95",
        "trusted": true
      },
      "execution_count": null,
      "outputs": []
    },
    {
      "cell_type": "code",
      "source": "97 + 25",
      "metadata": {
        "id": "pBrf0blHRkyl",
        "trusted": true
      },
      "execution_count": null,
      "outputs": []
    },
    {
      "cell_type": "code",
      "source": "chr(122)",
      "metadata": {
        "id": "Bqc-KK2ORtor",
        "trusted": true
      },
      "execution_count": null,
      "outputs": []
    },
    {
      "cell_type": "code",
      "source": "for i in range(97, 123):\n  print(chr(i))",
      "metadata": {
        "id": "ZGphrOOURmuz",
        "trusted": true
      },
      "execution_count": null,
      "outputs": []
    },
    {
      "cell_type": "code",
      "source": "for i, j in zip(range(65, 91), range(97, 123)):\n  print(chr(i), chr(j))",
      "metadata": {
        "id": "NkqbEWOdRXF1",
        "trusted": true
      },
      "execution_count": null,
      "outputs": []
    },
    {
      "cell_type": "code",
      "source": "ord('😺')",
      "metadata": {
        "id": "e8yUq6OGd0Bg",
        "trusted": true
      },
      "execution_count": null,
      "outputs": []
    },
    {
      "cell_type": "code",
      "source": "chr(128570)",
      "metadata": {
        "id": "3eGwlwt9d2j7",
        "trusted": true
      },
      "execution_count": null,
      "outputs": []
    },
    {
      "cell_type": "markdown",
      "source": "# **Addition Table:**",
      "metadata": {
        "id": "MrrQncdaSNCY"
      }
    },
    {
      "cell_type": "code",
      "source": "import pandas as pd",
      "metadata": {
        "id": "Eap6YvIspYw5",
        "trusted": true
      },
      "execution_count": null,
      "outputs": []
    },
    {
      "cell_type": "code",
      "source": "pd.DataFrame.from_dict({j: [i+j for i in range(10)] for j in range(10)})",
      "metadata": {
        "id": "z1Bt-hijSPaq",
        "trusted": true
      },
      "execution_count": null,
      "outputs": []
    },
    {
      "cell_type": "markdown",
      "source": "# **Subtraction Table:**",
      "metadata": {
        "id": "7jLMYyTnSUUK"
      }
    },
    {
      "cell_type": "code",
      "source": "pd.DataFrame.from_dict({j: [i-j for i in range(10)] for j in range(10)})",
      "metadata": {
        "id": "cpc_E-E0SUUL",
        "trusted": true
      },
      "execution_count": null,
      "outputs": []
    },
    {
      "cell_type": "markdown",
      "source": "# **Multiplication Table:**",
      "metadata": {
        "id": "98bl-j8iR36z"
      }
    },
    {
      "cell_type": "code",
      "source": "pd.DataFrame.from_dict({j: [i*j for i in range(10)] for j in range(10)})",
      "metadata": {
        "id": "u96-80vRs1vE",
        "trusted": true
      },
      "execution_count": null,
      "outputs": []
    },
    {
      "cell_type": "markdown",
      "source": "# **Division Table:**",
      "metadata": {
        "id": "p-otjtbcSvvA"
      }
    },
    {
      "cell_type": "code",
      "source": "pd.DataFrame.from_dict({j: [float(i)/float(j) if j != 0 else '±infinity' for i in range(10)] for j in range(10)})",
      "metadata": {
        "id": "UYPHPnpaSvvC",
        "trusted": true
      },
      "execution_count": null,
      "outputs": []
    },
    {
      "cell_type": "markdown",
      "source": "# **DRAWING:**",
      "metadata": {
        "id": "RBKSH8soaU6O"
      }
    },
    {
      "cell_type": "code",
      "source": "from PIL import Image, ImageDraw",
      "metadata": {
        "id": "wya-PxdHUVhP",
        "trusted": true
      },
      "execution_count": null,
      "outputs": []
    },
    {
      "cell_type": "code",
      "source": "im = Image.new('RGB', (300,300), (0,255,0))",
      "metadata": {
        "id": "aK-xOPp6VCLh",
        "trusted": true
      },
      "execution_count": null,
      "outputs": []
    },
    {
      "cell_type": "code",
      "source": "im",
      "metadata": {
        "id": "SBiN0lr3VFja",
        "trusted": true
      },
      "execution_count": null,
      "outputs": []
    },
    {
      "cell_type": "code",
      "source": "draw = ImageDraw.Draw(im)",
      "metadata": {
        "id": "cTE_Xx6kVfYt",
        "trusted": true
      },
      "execution_count": null,
      "outputs": []
    },
    {
      "cell_type": "code",
      "source": "draw.line((150, 0, 250, 300, 0, 100, 300, 100, 50, 300, 150, 0), (255, 0, 0))",
      "metadata": {
        "id": "VD1VDAopWKSg",
        "trusted": true
      },
      "execution_count": null,
      "outputs": []
    },
    {
      "cell_type": "code",
      "source": "im",
      "metadata": {
        "id": "ANJzgGiPW0Rg",
        "trusted": true
      },
      "execution_count": null,
      "outputs": []
    },
    {
      "cell_type": "markdown",
      "source": "# **GRAPHING:**",
      "metadata": {
        "id": "ipxk6xiDctF0"
      }
    },
    {
      "cell_type": "code",
      "source": "import matplotlib.pyplot as plt\n\nfig, ax = plt.subplots()\nax.plot((0, 4, 2, 4, 0))\n\nplt.show()",
      "metadata": {
        "id": "1NR9A8PCeIbZ",
        "trusted": true
      },
      "execution_count": null,
      "outputs": []
    },
    {
      "cell_type": "code",
      "source": "import matplotlib.pyplot as plt\n\nfig, ax = plt.subplots()\nax.plot((0, 4, 2, 4, 0))\nax.plot((0, 3, 1, 3, 0))\nax.plot((0, 2, 3, 2, 0))\nax.plot((0, 1, 4, 1, 0))\n\nplt.show()",
      "metadata": {
        "id": "2xkld2asdK7N",
        "trusted": true
      },
      "execution_count": null,
      "outputs": []
    },
    {
      "cell_type": "code",
      "source": "# CODE URL:\n# https://matplotlib.org/gallery/lines_bars_and_markers/simple_plot.html\n\n# import matplotlib\n# import matplotlib.pyplot as plt\nimport numpy as np\n\n# Data for plotting\nt = np.arange(0.0, 2.0, 0.01)\ns = 1 + np.sin(2 * np.pi * t)\n\nfig, ax = plt.subplots()\nax.plot(t, s)\n\nax.set(xlabel='time (s)', ylabel='voltage (mV)',\n       title='About as simple as it gets, folks')\nax.grid()\n\nfig.savefig(\"test.png\")\nplt.show()",
      "metadata": {
        "id": "ePpgdVYUbyI1",
        "trusted": true
      },
      "execution_count": null,
      "outputs": []
    },
    {
      "cell_type": "markdown",
      "source": "# **Natural Language Processing:**",
      "metadata": {
        "id": "liw12ub0ae3B"
      }
    },
    {
      "cell_type": "code",
      "source": "# import requests",
      "metadata": {
        "id": "o6rFl6wfcSSw",
        "trusted": true
      },
      "execution_count": null,
      "outputs": []
    },
    {
      "cell_type": "code",
      "source": "# text = str(requests.get('https://raw.githubusercontent.com/a-f-s-i-s/wordcloud/master/amueller_word_cloud/constitution.txt').content)",
      "metadata": {
        "id": "VkOWrlArcVzs",
        "trusted": true
      },
      "execution_count": null,
      "outputs": []
    },
    {
      "cell_type": "code",
      "source": "with open('./declaration.txt') as declaration_file:\n    declaration_text = str(declaration_file.read())",
      "metadata": {
        "trusted": true
      },
      "execution_count": null,
      "outputs": []
    },
    {
      "cell_type": "code",
      "source": "# CODE URL:\n# https://github.com/amueller/word_cloud/blob/master/examples/simple.py\n\n#!/usr/bin/env python\n\"\"\"\nMinimal Example\n===============\nGenerating a square wordcloud from the US constitution using default arguments.\n\"\"\"\n\nimport os\n\nfrom os import path\nfrom wordcloud import WordCloud\n\n# get data directory (using getcwd() is needed to support running example in generated IPython notebook)\nd = path.dirname(__file__) if \"__file__\" in locals() else os.getcwd()\n\n# Read the whole text.\n# text = open(path.join(d, 'constitution.txt')).read()\n\n# Generate a word cloud image\nwordcloud = WordCloud().generate(declaration_text)\n\n# Display the generated image:\n# the matplotlib way:\nimport matplotlib.pyplot as plt\nplt.imshow(wordcloud, interpolation='bilinear')\nplt.axis(\"off\")\n\n# lower max_font_size\nwordcloud = WordCloud(max_font_size=40).generate(declaration_text)\nplt.figure()\nplt.imshow(wordcloud, interpolation=\"bilinear\")\nplt.axis(\"off\")\nplt.show()\n\n# The pil way (if you don't have matplotlib)\n# image = wordcloud.to_image()\n# image.show()",
      "metadata": {
        "id": "kK9VkFvyWEqp",
        "trusted": true
      },
      "execution_count": null,
      "outputs": []
    },
    {
      "cell_type": "code",
      "source": "with open('./constitution.txt') as constitution_file:\n    constitution_text = str(constitution_file.read())",
      "metadata": {
        "trusted": true
      },
      "execution_count": null,
      "outputs": []
    },
    {
      "cell_type": "code",
      "source": "# CODE URL:\n# https://github.com/amueller/word_cloud/blob/master/examples/simple.py\n\n#!/usr/bin/env python\n\"\"\"\nMinimal Example\n===============\nGenerating a square wordcloud from the US constitution using default arguments.\n\"\"\"\n\nimport os\n\nfrom os import path\nfrom wordcloud import WordCloud\n\n# get data directory (using getcwd() is needed to support running example in generated IPython notebook)\nd = path.dirname(__file__) if \"__file__\" in locals() else os.getcwd()\n\n# Read the whole text.\n# text = open(path.join(d, 'constitution.txt')).read()\n\n# Generate a word cloud image\nwordcloud = WordCloud().generate(constitution_text)\n\n# Display the generated image:\n# the matplotlib way:\nimport matplotlib.pyplot as plt\nplt.imshow(wordcloud, interpolation='bilinear')\nplt.axis(\"off\")\n\n# lower max_font_size\nwordcloud = WordCloud(max_font_size=40).generate(constitution_text)\nplt.figure()\nplt.imshow(wordcloud, interpolation=\"bilinear\")\nplt.axis(\"off\")\nplt.show()\n\n# The pil way (if you don't have matplotlib)\n# image = wordcloud.to_image()\n# image.show()",
      "metadata": {
        "trusted": true
      },
      "execution_count": null,
      "outputs": []
    },
    {
      "cell_type": "markdown",
      "source": "# **Machine Learning Data Preparation:**",
      "metadata": {
        "id": "5s19iejmduLQ"
      }
    },
    {
      "cell_type": "code",
      "source": "import json",
      "metadata": {
        "trusted": true
      },
      "execution_count": null,
      "outputs": []
    },
    {
      "cell_type": "code",
      "source": "iris_json = \"\"\"{\"data\": [[5.1, 3.5, 1.4, 0.2], [4.9, 3.0, 1.4, 0.2], [4.7, 3.2, 1.3, 0.2], [4.6, 3.1, 1.5, 0.2], [5.0, 3.6, 1.4, 0.2], [5.4, 3.9, 1.7, 0.4], [4.6, 3.4, 1.4, 0.3], [5.0, 3.4, 1.5, 0.2], [4.4, 2.9, 1.4, 0.2], [4.9, 3.1, 1.5, 0.1], [5.4, 3.7, 1.5, 0.2], [4.8, 3.4, 1.6, 0.2], [4.8, 3.0, 1.4, 0.1], [4.3, 3.0, 1.1, 0.1], [5.8, 4.0, 1.2, 0.2], [5.7, 4.4, 1.5, 0.4], [5.4, 3.9, 1.3, 0.4], [5.1, 3.5, 1.4, 0.3], [5.7, 3.8, 1.7, 0.3], [5.1, 3.8, 1.5, 0.3], [5.4, 3.4, 1.7, 0.2], [5.1, 3.7, 1.5, 0.4], [4.6, 3.6, 1.0, 0.2], [5.1, 3.3, 1.7, 0.5], [4.8, 3.4, 1.9, 0.2], [5.0, 3.0, 1.6, 0.2], [5.0, 3.4, 1.6, 0.4], [5.2, 3.5, 1.5, 0.2], [5.2, 3.4, 1.4, 0.2], [4.7, 3.2, 1.6, 0.2], [4.8, 3.1, 1.6, 0.2], [5.4, 3.4, 1.5, 0.4], [5.2, 4.1, 1.5, 0.1], [5.5, 4.2, 1.4, 0.2], [4.9, 3.1, 1.5, 0.2], [5.0, 3.2, 1.2, 0.2], [5.5, 3.5, 1.3, 0.2], [4.9, 3.6, 1.4, 0.1], [4.4, 3.0, 1.3, 0.2], [5.1, 3.4, 1.5, 0.2], [5.0, 3.5, 1.3, 0.3], [4.5, 2.3, 1.3, 0.3], [4.4, 3.2, 1.3, 0.2], [5.0, 3.5, 1.6, 0.6], [5.1, 3.8, 1.9, 0.4], [4.8, 3.0, 1.4, 0.3], [5.1, 3.8, 1.6, 0.2], [4.6, 3.2, 1.4, 0.2], [5.3, 3.7, 1.5, 0.2], [5.0, 3.3, 1.4, 0.2], [7.0, 3.2, 4.7, 1.4], [6.4, 3.2, 4.5, 1.5], [6.9, 3.1, 4.9, 1.5], [5.5, 2.3, 4.0, 1.3], [6.5, 2.8, 4.6, 1.5], [5.7, 2.8, 4.5, 1.3], [6.3, 3.3, 4.7, 1.6], [4.9, 2.4, 3.3, 1.0], [6.6, 2.9, 4.6, 1.3], [5.2, 2.7, 3.9, 1.4], [5.0, 2.0, 3.5, 1.0], [5.9, 3.0, 4.2, 1.5], [6.0, 2.2, 4.0, 1.0], [6.1, 2.9, 4.7, 1.4], [5.6, 2.9, 3.6, 1.3], [6.7, 3.1, 4.4, 1.4], [5.6, 3.0, 4.5, 1.5], [5.8, 2.7, 4.1, 1.0], [6.2, 2.2, 4.5, 1.5], [5.6, 2.5, 3.9, 1.1], [5.9, 3.2, 4.8, 1.8], [6.1, 2.8, 4.0, 1.3], [6.3, 2.5, 4.9, 1.5], [6.1, 2.8, 4.7, 1.2], [6.4, 2.9, 4.3, 1.3], [6.6, 3.0, 4.4, 1.4], [6.8, 2.8, 4.8, 1.4], [6.7, 3.0, 5.0, 1.7], [6.0, 2.9, 4.5, 1.5], [5.7, 2.6, 3.5, 1.0], [5.5, 2.4, 3.8, 1.1], [5.5, 2.4, 3.7, 1.0], [5.8, 2.7, 3.9, 1.2], [6.0, 2.7, 5.1, 1.6], [5.4, 3.0, 4.5, 1.5], [6.0, 3.4, 4.5, 1.6], [6.7, 3.1, 4.7, 1.5], [6.3, 2.3, 4.4, 1.3], [5.6, 3.0, 4.1, 1.3], [5.5, 2.5, 4.0, 1.3], [5.5, 2.6, 4.4, 1.2], [6.1, 3.0, 4.6, 1.4], [5.8, 2.6, 4.0, 1.2], [5.0, 2.3, 3.3, 1.0], [5.6, 2.7, 4.2, 1.3], [5.7, 3.0, 4.2, 1.2], [5.7, 2.9, 4.2, 1.3], [6.2, 2.9, 4.3, 1.3], [5.1, 2.5, 3.0, 1.1], [5.7, 2.8, 4.1, 1.3], [6.3, 3.3, 6.0, 2.5], [5.8, 2.7, 5.1, 1.9], [7.1, 3.0, 5.9, 2.1], [6.3, 2.9, 5.6, 1.8], [6.5, 3.0, 5.8, 2.2], [7.6, 3.0, 6.6, 2.1], [4.9, 2.5, 4.5, 1.7], [7.3, 2.9, 6.3, 1.8], [6.7, 2.5, 5.8, 1.8], [7.2, 3.6, 6.1, 2.5], [6.5, 3.2, 5.1, 2.0], [6.4, 2.7, 5.3, 1.9], [6.8, 3.0, 5.5, 2.1], [5.7, 2.5, 5.0, 2.0], [5.8, 2.8, 5.1, 2.4], [6.4, 3.2, 5.3, 2.3], [6.5, 3.0, 5.5, 1.8], [7.7, 3.8, 6.7, 2.2], [7.7, 2.6, 6.9, 2.3], [6.0, 2.2, 5.0, 1.5], [6.9, 3.2, 5.7, 2.3], [5.6, 2.8, 4.9, 2.0], [7.7, 2.8, 6.7, 2.0], [6.3, 2.7, 4.9, 1.8], [6.7, 3.3, 5.7, 2.1], [7.2, 3.2, 6.0, 1.8], [6.2, 2.8, 4.8, 1.8], [6.1, 3.0, 4.9, 1.8], [6.4, 2.8, 5.6, 2.1], [7.2, 3.0, 5.8, 1.6], [7.4, 2.8, 6.1, 1.9], [7.9, 3.8, 6.4, 2.0], [6.4, 2.8, 5.6, 2.2], [6.3, 2.8, 5.1, 1.5], [6.1, 2.6, 5.6, 1.4], [7.7, 3.0, 6.1, 2.3], [6.3, 3.4, 5.6, 2.4], [6.4, 3.1, 5.5, 1.8], [6.0, 3.0, 4.8, 1.8], [6.9, 3.1, 5.4, 2.1], [6.7, 3.1, 5.6, 2.4], [6.9, 3.1, 5.1, 2.3], [5.8, 2.7, 5.1, 1.9], [6.8, 3.2, 5.9, 2.3], [6.7, 3.3, 5.7, 2.5], [6.7, 3.0, 5.2, 2.3], [6.3, 2.5, 5.0, 1.9], [6.5, 3.0, 5.2, 2.0], [6.2, 3.4, 5.4, 2.3], [5.9, 3.0, 5.1, 1.8]], \"target\": [0, 0, 0, 0, 0, 0, 0, 0, 0, 0, 0, 0, 0, 0, 0, 0, 0, 0, 0, 0, 0, 0, 0, 0, 0, 0, 0, 0, 0, 0, 0, 0, 0, 0, 0, 0, 0, 0, 0, 0, 0, 0, 0, 0, 0, 0, 0, 0, 0, 0, 1, 1, 1, 1, 1, 1, 1, 1, 1, 1, 1, 1, 1, 1, 1, 1, 1, 1, 1, 1, 1, 1, 1, 1, 1, 1, 1, 1, 1, 1, 1, 1, 1, 1, 1, 1, 1, 1, 1, 1, 1, 1, 1, 1, 1, 1, 1, 1, 1, 1, 2, 2, 2, 2, 2, 2, 2, 2, 2, 2, 2, 2, 2, 2, 2, 2, 2, 2, 2, 2, 2, 2, 2, 2, 2, 2, 2, 2, 2, 2, 2, 2, 2, 2, 2, 2, 2, 2, 2, 2, 2, 2, 2, 2, 2, 2, 2, 2, 2, 2]}\"\"\"",
      "metadata": {
        "trusted": true
      },
      "execution_count": null,
      "outputs": []
    },
    {
      "cell_type": "code",
      "source": "iris = json.loads(iris_json)",
      "metadata": {
        "trusted": true
      },
      "execution_count": null,
      "outputs": []
    },
    {
      "cell_type": "code",
      "source": "# CODE URL:\n# https://scikit-learn.org/stable/auto_examples/datasets/plot_iris_dataset.html\n\nimport matplotlib.pyplot as plt\nfrom mpl_toolkits.mplot3d import Axes3D\n# from sklearn import datasets\nfrom sklearn.decomposition import PCA\nimport numpy as np\n\n# import some data to play with\n# iris = datasets.load_iris()\nX = np.array(iris['data'])[:, :2]  # we only take the first two features.\ny = np.array(iris['target'])\n\nx_min, x_max = X[:, 0].min() - .5, X[:, 0].max() + .5\ny_min, y_max = X[:, 1].min() - .5, X[:, 1].max() + .5\n\nplt.figure(2, figsize=(8, 6))\nplt.clf()\n\n# Plot the training points\nplt.scatter(X[:, 0], X[:, 1], c=y, cmap=plt.cm.Set1,\n            edgecolor='k')\nplt.xlabel('Sepal length')\nplt.ylabel('Sepal width')\n\nplt.xlim(x_min, x_max)\nplt.ylim(y_min, y_max)\nplt.xticks(())\nplt.yticks(())\n\n# To getter a better understanding of interaction of the dimensions\n# plot the first three PCA dimensions\nfig = plt.figure(1, figsize=(8, 6))\nax = Axes3D(fig, elev=-150, azim=110)\nX_reduced = PCA(n_components=3).fit_transform(iris['data'])\nax.scatter(X_reduced[:, 0], X_reduced[:, 1], X_reduced[:, 2], c=y,\n           cmap=plt.cm.Set1, edgecolor='k', s=40)\nax.set_title(\"First three PCA directions\")\nax.set_xlabel(\"1st eigenvector\")\nax.w_xaxis.set_ticklabels([])\nax.set_ylabel(\"2nd eigenvector\")\nax.w_yaxis.set_ticklabels([])\nax.set_zlabel(\"3rd eigenvector\")\nax.w_zaxis.set_ticklabels([])\n\nplt.show()",
      "metadata": {
        "id": "k_ctYKwma5Gf",
        "trusted": true
      },
      "execution_count": null,
      "outputs": []
    },
    {
      "cell_type": "markdown",
      "source": "# **PYTHON & DATA ARE FUN:**",
      "metadata": {
        "id": "AVwG5cW5qsXH"
      }
    },
    {
      "cell_type": "code",
      "source": "# CODE URL:\n# http://bytesizebio.net/2013/02/16/a-belated-valentines-day-post/\n\n#!/usr/bin/env python\nfrom mpl_toolkits.mplot3d import Axes3D\nfrom matplotlib import cm\nfrom matplotlib.ticker import LinearLocator, FormatStrFormatter\nimport matplotlib.pyplot as plt\nimport numpy as np\ndef heart_3d(x,y,z):\n   return (x**2+(9/4)*y**2+z**2-1)**3-x**2*z**3-(9/80)*y**2*z**3\n\ndef plot_implicit(fn, bbox=(-1.5,1.5)):\n    ''' create a plot of an implicit function\n    fn  ...implicit function (plot where fn==0)\n    bbox ..the x,y,and z limits of plotted interval'''\n    xmin, xmax, ymin, ymax, zmin, zmax = bbox*3\n    fig = plt.figure()\n    ax = fig.add_subplot(111, projection='3d')\n    A = np.linspace(xmin, xmax, 100) # resolution of the contour\n    B = np.linspace(xmin, xmax, 40) # number of slices\n    A1,A2 = np.meshgrid(A,A) # grid on which the contour is plotted\n\n    for z in B: # plot contours in the XY plane\n        X,Y = A1,A2\n        Z = fn(X,Y,z)\n        cset = ax.contour(X, Y, Z+z, [z], zdir='z',colors=('r',))\n        # [z] defines the only level to plot for this contour for this value of z\n\n    for y in B: # plot contours in the XZ plane\n        X,Z = A1,A2\n        Y = fn(X,y,Z)\n        cset = ax.contour(X, Y+y, Z, [y], zdir='y',colors=('red',))\n\n    for x in B: # plot contours in the YZ plane\n        Y,Z = A1,A2\n        X = fn(x,Y,Z)\n        cset = ax.contour(X+x, Y, Z, [x], zdir='x',colors=('red',))\n\n    # must set plot limits because the contour will likely extend\n    # way beyond the displayed level.  Otherwise matplotlib extends the plot limits\n    # to encompass all values in the contour.\n    ax.set_zlim3d(zmin,zmax)\n    ax.set_xlim3d(xmin,xmax)\n    ax.set_ylim3d(ymin,ymax)\n\n    plt.show()\n\nif __name__ == '__main__':\n    plot_implicit(heart_3d)",
      "metadata": {
        "id": "nhrhHi3edyua",
        "trusted": true
      },
      "execution_count": null,
      "outputs": []
    },
    {
      "cell_type": "code",
      "source": "",
      "metadata": {
        "id": "LBmy1Uh5esgP"
      },
      "execution_count": null,
      "outputs": []
    }
  ]
}